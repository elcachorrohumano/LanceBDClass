{
 "cells": [
  {
   "cell_type": "code",
   "execution_count": 3,
   "metadata": {},
   "outputs": [],
   "source": [
    "import lancedb\n",
    "import pyarrow as pa\n",
    "import pandas as pd\n",
    "from datasets import load_dataset\n",
    "from transformers import GPT2Tokenizer"
   ]
  },
  {
   "cell_type": "markdown",
   "metadata": {},
   "source": [
    "Para este ejercicio descargamos una base de datos de mensajes de texto en inglés."
   ]
  },
  {
   "cell_type": "code",
   "execution_count": 4,
   "metadata": {},
   "outputs": [],
   "source": [
    "dataset = load_dataset(\"chirunder/text_messages\")"
   ]
  },
  {
   "cell_type": "code",
   "execution_count": 5,
   "metadata": {},
   "outputs": [
    {
     "data": {
      "text/html": [
       "<div>\n",
       "<style scoped>\n",
       "    .dataframe tbody tr th:only-of-type {\n",
       "        vertical-align: middle;\n",
       "    }\n",
       "\n",
       "    .dataframe tbody tr th {\n",
       "        vertical-align: top;\n",
       "    }\n",
       "\n",
       "    .dataframe thead th {\n",
       "        text-align: right;\n",
       "    }\n",
       "</style>\n",
       "<table border=\"1\" class=\"dataframe\">\n",
       "  <thead>\n",
       "    <tr style=\"text-align: right;\">\n",
       "      <th></th>\n",
       "      <th>texto</th>\n",
       "    </tr>\n",
       "  </thead>\n",
       "  <tbody>\n",
       "    <tr>\n",
       "      <th>0</th>\n",
       "      <td>Top right I gained a little speed with the add...</td>\n",
       "    </tr>\n",
       "    <tr>\n",
       "      <th>1</th>\n",
       "      <td>They are heavier wheels though as are all the ...</td>\n",
       "    </tr>\n",
       "    <tr>\n",
       "      <th>2</th>\n",
       "      <td>Federally registering a trademark is more than...</td>\n",
       "    </tr>\n",
       "    <tr>\n",
       "      <th>3</th>\n",
       "      <td>I'll have to jog my memory from rooting a few ...</td>\n",
       "    </tr>\n",
       "    <tr>\n",
       "      <th>4</th>\n",
       "      <td>Unless you can afford to buy all new larger cl...</td>\n",
       "    </tr>\n",
       "  </tbody>\n",
       "</table>\n",
       "</div>"
      ],
      "text/plain": [
       "                                               texto\n",
       "0  Top right I gained a little speed with the add...\n",
       "1  They are heavier wheels though as are all the ...\n",
       "2  Federally registering a trademark is more than...\n",
       "3  I'll have to jog my memory from rooting a few ...\n",
       "4  Unless you can afford to buy all new larger cl..."
      ]
     },
     "execution_count": 5,
     "metadata": {},
     "output_type": "execute_result"
    }
   ],
   "source": [
    "df = pd.DataFrame(dataset['train'])\n",
    "df.rename(columns={'text': 'texto'}, inplace=True)\n",
    "df.head()"
   ]
  },
  {
   "cell_type": "markdown",
   "metadata": {},
   "source": [
    "Para los siguientes ejercicios, voy a crear una variable del numero de palabras en cada mensaje de texto."
   ]
  },
  {
   "cell_type": "code",
   "execution_count": 6,
   "metadata": {},
   "outputs": [
    {
     "data": {
      "text/html": [
       "<div>\n",
       "<style scoped>\n",
       "    .dataframe tbody tr th:only-of-type {\n",
       "        vertical-align: middle;\n",
       "    }\n",
       "\n",
       "    .dataframe tbody tr th {\n",
       "        vertical-align: top;\n",
       "    }\n",
       "\n",
       "    .dataframe thead th {\n",
       "        text-align: right;\n",
       "    }\n",
       "</style>\n",
       "<table border=\"1\" class=\"dataframe\">\n",
       "  <thead>\n",
       "    <tr style=\"text-align: right;\">\n",
       "      <th></th>\n",
       "      <th>n</th>\n",
       "      <th>texto</th>\n",
       "    </tr>\n",
       "  </thead>\n",
       "  <tbody>\n",
       "    <tr>\n",
       "      <th>0</th>\n",
       "      <td>13</td>\n",
       "      <td>Top right I gained a little speed with the add...</td>\n",
       "    </tr>\n",
       "    <tr>\n",
       "      <th>1</th>\n",
       "      <td>14</td>\n",
       "      <td>They are heavier wheels though as are all the ...</td>\n",
       "    </tr>\n",
       "    <tr>\n",
       "      <th>2</th>\n",
       "      <td>9</td>\n",
       "      <td>Federally registering a trademark is more than...</td>\n",
       "    </tr>\n",
       "    <tr>\n",
       "      <th>3</th>\n",
       "      <td>21</td>\n",
       "      <td>I'll have to jog my memory from rooting a few ...</td>\n",
       "    </tr>\n",
       "    <tr>\n",
       "      <th>4</th>\n",
       "      <td>10</td>\n",
       "      <td>Unless you can afford to buy all new larger cl...</td>\n",
       "    </tr>\n",
       "  </tbody>\n",
       "</table>\n",
       "</div>"
      ],
      "text/plain": [
       "    n                                              texto\n",
       "0  13  Top right I gained a little speed with the add...\n",
       "1  14  They are heavier wheels though as are all the ...\n",
       "2   9  Federally registering a trademark is more than...\n",
       "3  21  I'll have to jog my memory from rooting a few ...\n",
       "4  10  Unless you can afford to buy all new larger cl..."
      ]
     },
     "execution_count": 6,
     "metadata": {},
     "output_type": "execute_result"
    }
   ],
   "source": [
    "df['n'] = df['texto'].apply(lambda x: len(str(x).split()))\n",
    "df = df[['n', 'texto']]\n",
    "df.head()"
   ]
  },
  {
   "cell_type": "markdown",
   "metadata": {},
   "source": [
    "## Task 1:\n",
    "A partir del dataframe df, crea df_tokenized (usando el Tokenizer de GPT2) con dos columnas pero con el texto tokenizado. Asegurate de que todos los embeddings tengan la misma longitud y los tokens sean enteros (todos enteros o todos doubles). "
   ]
  },
  {
   "cell_type": "code",
   "execution_count": 18,
   "metadata": {},
   "outputs": [
    {
     "name": "stderr",
     "output_type": "stream",
     "text": [
      "/usr/local/lib/python3.12/site-packages/huggingface_hub/file_download.py:1132: FutureWarning: `resume_download` is deprecated and will be removed in version 1.0.0. Downloads always resume when possible. If you want to force a new download, use `force_download=True`.\n",
      "  warnings.warn(\n"
     ]
    },
    {
     "data": {
      "text/html": [
       "<div>\n",
       "<style scoped>\n",
       "    .dataframe tbody tr th:only-of-type {\n",
       "        vertical-align: middle;\n",
       "    }\n",
       "\n",
       "    .dataframe tbody tr th {\n",
       "        vertical-align: top;\n",
       "    }\n",
       "\n",
       "    .dataframe thead th {\n",
       "        text-align: right;\n",
       "    }\n",
       "</style>\n",
       "<table border=\"1\" class=\"dataframe\">\n",
       "  <thead>\n",
       "    <tr style=\"text-align: right;\">\n",
       "      <th></th>\n",
       "      <th>vector</th>\n",
       "      <th>name</th>\n",
       "    </tr>\n",
       "  </thead>\n",
       "  <tbody>\n",
       "    <tr>\n",
       "      <th>0</th>\n",
       "      <td>[9126, 826, 314, 8618, 257, 1310, 2866, 351, 2...</td>\n",
       "      <td>13</td>\n",
       "    </tr>\n",
       "    <tr>\n",
       "      <th>1</th>\n",
       "      <td>[2990, 389, 20140, 13666, 996, 355, 389, 477, ...</td>\n",
       "      <td>14</td>\n",
       "    </tr>\n",
       "    <tr>\n",
       "      <th>2</th>\n",
       "      <td>[37, 5702, 453, 28336, 257, 16028, 318, 517, 6...</td>\n",
       "      <td>9</td>\n",
       "    </tr>\n",
       "    <tr>\n",
       "      <th>3</th>\n",
       "      <td>[40, 1183, 423, 284, 48342, 616, 4088, 422, 40...</td>\n",
       "      <td>21</td>\n",
       "    </tr>\n",
       "    <tr>\n",
       "      <th>4</th>\n",
       "      <td>[28042, 345, 460, 5368, 284, 2822, 477, 649, 4...</td>\n",
       "      <td>10</td>\n",
       "    </tr>\n",
       "  </tbody>\n",
       "</table>\n",
       "</div>"
      ],
      "text/plain": [
       "                                              vector  name\n",
       "0  [9126, 826, 314, 8618, 257, 1310, 2866, 351, 2...    13\n",
       "1  [2990, 389, 20140, 13666, 996, 355, 389, 477, ...    14\n",
       "2  [37, 5702, 453, 28336, 257, 16028, 318, 517, 6...     9\n",
       "3  [40, 1183, 423, 284, 48342, 616, 4088, 422, 40...    21\n",
       "4  [28042, 345, 460, 5368, 284, 2822, 477, 649, 4...    10"
      ]
     },
     "execution_count": 18,
     "metadata": {},
     "output_type": "execute_result"
    }
   ],
   "source": [
    "df=df.head(5000)\n",
    "\n",
    "tokenizer = GPT2Tokenizer.from_pretrained('gpt2')\n",
    "\n",
    "tok_messages = df['texto'].apply(lambda x: tokenizer(x)[\"input_ids\"])\n",
    "\n",
    "tok_messages = tok_messages.apply(lambda x: x[:300] + [0] * (300 - len(x)) if len(x) < 300 else x[:300])\n",
    "\n",
    "df_tokenized = pd.DataFrame({'vector': tok_messages, 'name': df['n']})\n",
    "\n",
    "df_tokenized.head()\n"
   ]
  },
  {
   "cell_type": "markdown",
   "metadata": {},
   "source": [
    "## Task 2:\n",
    "Mete el dataframe a una tabla en una base de datos de LanceDB."
   ]
  },
  {
   "cell_type": "code",
   "execution_count": 19,
   "metadata": {},
   "outputs": [
    {
     "data": {
      "text/plain": [
       "pyarrow.Table\n",
       "vector: fixed_size_list<item: float>[300]\n",
       "  child 0, item: float\n",
       "name: int64\n",
       "----\n",
       "vector: [[[9126,826,314,8618,257,...,0,0,0,0,0],[2990,389,20140,13666,996,...,0,0,0,0,0],[37,5702,453,28336,257,...,0,0,0,0,0],[40,1183,423,284,48342,...,0,0,0,0,0],[28042,345,460,5368,284,...,0,0,0,0,0]]]\n",
       "name: [[13,14,9,21,10]]"
      ]
     },
     "execution_count": 19,
     "metadata": {},
     "output_type": "execute_result"
    }
   ],
   "source": [
    "db = lancedb.connect(\"./messages.lancedb\")\n",
    "\n",
    "db.create_table(\"tabla\", df_tokenized)\n",
    "\n",
    "db[\"tabla\"].head()"
   ]
  },
  {
   "cell_type": "markdown",
   "metadata": {},
   "source": [
    "## Task 3:\n",
    "Haz una query estilo SQL a la tabla de la base de datos. Quiero que escribas la query equivalente y pongas la explicación de lo que está haciendo la consulta. Hint: usa la columna \"n\". "
   ]
  },
  {
   "cell_type": "code",
   "execution_count": 36,
   "metadata": {},
   "outputs": [
    {
     "name": "stdout",
     "output_type": "stream",
     "text": [
      "    name                                             vector\n",
      "0     13  [9126.0, 826.0, 314.0, 8618.0, 257.0, 1310.0, ...\n",
      "1     14  [2990.0, 389.0, 20140.0, 13666.0, 996.0, 355.0...\n",
      "2      9  [37.0, 5702.0, 453.0, 28336.0, 257.0, 16028.0,...\n",
      "3     21  [40.0, 1183.0, 423.0, 284.0, 48342.0, 616.0, 4...\n",
      "4     10  [28042.0, 345.0, 460.0, 5368.0, 284.0, 2822.0,...\n",
      "5     12  [15784.0, 329.0, 257.0, 2524.0, 326.0, 318.0, ...\n",
      "6     24  [2949.0, 14148.0, 4001.0, 475.0, 345.0, 761.0,...\n",
      "7      4  [2990.0, 389.0, 16001.0, 19943.0, 13.0, 0.0, 0...\n",
      "8     15  [1858.0, 3729.0, 389.0, 517.0, 6792.0, 5672.0,...\n",
      "9     15  [1639.0, 3551.0, 880.0, 11.0, 290.0, 1944.0, 3...\n",
      "10    13  [464.0, 1097.0, 4444.0, 510.0, 852.0, 2861.0, ...\n"
     ]
    }
   ],
   "source": [
    "result_df = (\n",
    "    db[\"tabla\"].search()\n",
    "    \n",
    "    # Filtra los resultados para incluir solo las filas donde la columna 'n' es mayor que 3\n",
    "    .where(\"name > 3\")\n",
    "    \n",
    "    # Selecciona únicamente las columnas 'n' y 'vector' de los resultados filtrados\n",
    "    .select([\"name\", \"vector\"])\n",
    "    \n",
    "    # Limita el número de resultados a 11 filas\n",
    "    .limit(11)\n",
    "    \n",
    "    # Convierte los resultados de la consulta a un DataFrame de pandas\n",
    "    .to_pandas()\n",
    ")\n",
    "\n",
    "# Imprime el DataFrame resultante\n",
    "print(result_df)\n"
   ]
  },
  {
   "cell_type": "markdown",
   "metadata": {},
   "source": [
    "- Query en SQL equivalente:\n",
    "- Explicacion: "
   ]
  },
  {
   "cell_type": "code",
   "execution_count": 40,
   "metadata": {},
   "outputs": [
    {
     "data": {
      "text/plain": [
       "'Explicación:\\nSELECT name, vector\\n\\nEsta parte de la consulta selecciona las columnas name y vector de la tabla tabla. Es equivalente a .select([\"name\", \"vector\"]) en el código Python.\\nFROM tabla\\n\\nEspecifica la tabla tabla desde la cual se van a seleccionar los datos.\\nWHERE name > 3\\n\\nEsta cláusula filtra las filas de la tabla para incluir solo aquellas donde el valor de la columna name es mayor que 3. Es equivalente a .where(\"name > 3\") en el código Python.\\nLIMIT 11\\n\\nLimita el número de filas devueltas por la consulta a 11. Es equivalente a .limit(11) en el código Python.'"
      ]
     },
     "execution_count": 40,
     "metadata": {},
     "output_type": "execute_result"
    }
   ],
   "source": [
    "#SELECT name, vector\n",
    "#FROM tabla\n",
    "#WHERE name > 3\n",
    "#LIMIT 11;\n",
    "\n",
    "'''Explicación:\n",
    "\n",
    "SELECT name, vector\n",
    "Esta parte de la consulta selecciona las columnas name y vector de la tabla tabla. Es equivalente a .select([\"name\", \"vector\"]) en el código Python.\n",
    "\n",
    "FROM tabla\n",
    "Especifica la tabla tabla desde la cual se van a seleccionar los datos.\n",
    "\n",
    "WHERE name > 3\n",
    "Esta cláusula filtra las filas de la tabla para incluir solo aquellas donde el valor de la columna name es mayor que 3. Es equivalente a .where(\"name > 3\") en el código Python.\n",
    "\n",
    "LIMIT 11\n",
    "Limita el número de filas devueltas por la consulta a 11. Es equivalente a .limit(11) en el código Python.'''"
   ]
  },
  {
   "cell_type": "markdown",
   "metadata": {},
   "source": [
    "## Task 4:\n",
    "Inventa un mensaje de texto que tu podrías escribirle a un amigo. Tokenizalo y ponlo en el formato adecuado para hacer un vector query. Quiero que me regreses el mensaje más parecido al mensaje que inventaste (OJO: quiero el texto, no el embedding). HINT: Hay que decodear el resultado del query."
   ]
  },
  {
   "cell_type": "code",
   "execution_count": 24,
   "metadata": {},
   "outputs": [
    {
     "name": "stdout",
     "output_type": "stream",
     "text": [
      "13\n",
      "what are you thinking for the tail lights and that area?!!!!!!!!!!!!!!!!!!!!!!!!!!!!!!!!!!!!!!!!!!!!!!!!!!!!!!!!!!!!!!!!!!!!!!!!!!!!!!!!!!!!!!!!!!!!!!!!!!!!!!!!!!!!!!!!!!!!!!!!!!!!!!!!!!!!!!!!!!!!!!!!!!!!!!!!!!!!!!!!!!!!!!!!!!!!!!!!!!!!!!!!!!!!!!!!!!!!!!!!!!!!!!!!!!!!!!!!!!!!!!!!!!!!!!!!!!!!!!!!!!!!!!!!!!!!!!!!!!!!!!!!!!!!!!!!!!!!!!!!!!!!!!!!\n"
     ]
    }
   ],
   "source": [
    "mensaje = 'Hey, do you want to grab coffee later and catch up?'\n",
    "\n",
    "mensaje_tok = tokenizer(mensaje)[\"input_ids\"]\n",
    "\n",
    "print(len(mensaje_tok))\n",
    "\n",
    "if len(mensaje_tok) < 300:\n",
    "    mi_mensaje_tokenized = mensaje_tok + [0] * (300 - len(mensaje_tok))\n",
    "else:\n",
    "    mi_mensaje_tokenized = mensaje_tok[:300]\n",
    "\n",
    "df_q = (db[\"tabla\"].search(mi_mensaje_tokenized)\n",
    "        .metric(\"L2\") \n",
    "        .select([\"vector\"])\n",
    "        .limit(1)\n",
    "        .to_pandas())\n",
    "\n",
    "query_tok = df_q['vector'].values[0]\n",
    "\n",
    "mensaje_parecido =  tokenizer.decode(query_tok, skip_special_tokens=True)\n",
    "print(mensaje_parecido)"
   ]
  }
 ],
 "metadata": {
  "kernelspec": {
   "display_name": "Python 3 (ipykernel)",
   "language": "python",
   "name": "python3"
  },
  "language_info": {
   "codemirror_mode": {
    "name": "ipython",
    "version": 3
   },
   "file_extension": ".py",
   "mimetype": "text/x-python",
   "name": "python",
   "nbconvert_exporter": "python",
   "pygments_lexer": "ipython3",
   "version": "3.12.3"
  }
 },
 "nbformat": 4,
 "nbformat_minor": 2
}
